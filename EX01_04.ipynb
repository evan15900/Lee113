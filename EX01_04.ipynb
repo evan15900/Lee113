{
  "nbformat": 4,
  "nbformat_minor": 0,
  "metadata": {
    "colab": {
      "provenance": [],
      "authorship_tag": "ABX9TyNfq5LwTogYUdZmsFGoZb63",
      "include_colab_link": true
    },
    "kernelspec": {
      "name": "python3",
      "display_name": "Python 3"
    },
    "language_info": {
      "name": "python"
    }
  },
  "cells": [
    {
      "cell_type": "markdown",
      "metadata": {
        "id": "view-in-github",
        "colab_type": "text"
      },
      "source": [
        "<a href=\"https://colab.research.google.com/github/evan15900/Lee113/blob/main/EX01_04.ipynb\" target=\"_parent\"><img src=\"https://colab.research.google.com/assets/colab-badge.svg\" alt=\"Open In Colab\"/></a>"
      ]
    },
    {
      "cell_type": "code",
      "execution_count": 1,
      "metadata": {
        "id": "ReX7JCMT7cIi",
        "colab": {
          "base_uri": "https://localhost:8080/"
        },
        "outputId": "68d1d52d-660a-4e59-896e-ff39e45d4072"
      },
      "outputs": [
        {
          "output_type": "stream",
          "name": "stdout",
          "text": [
            "請輸入數字 0 ~ 100\n",
            "50\n",
            "請輸入數字 0 ~ 50\n",
            "35\n",
            "請輸入數字 35 ~ 50\n",
            "40\n",
            "請輸入數字 35 ~ 40\n",
            "38\n",
            "請輸入數字 35 ~ 38\n",
            "36\n",
            "BOOM!\n"
          ]
        }
      ],
      "source": [
        "import random\n",
        "bomb = random.randint(1,99)\n",
        "left = 0\n",
        "right = 100\n",
        "\n",
        "check = True\n",
        "while check:\n",
        "  print('請輸入數字',left,'~',right)\n",
        "  a = int(input())\n",
        "  if a <= left or a >= right:\n",
        "    print('超出範圍')\n",
        "  elif a == bomb:\n",
        "    check = False\n",
        "    print('BOOM!')\n",
        "  elif a < bomb:\n",
        "    left = a\n",
        "  elif a > bomb:\n",
        "    right = a"
      ]
    }
  ]
}
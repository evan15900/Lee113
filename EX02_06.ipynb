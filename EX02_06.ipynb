{
  "nbformat": 4,
  "nbformat_minor": 0,
  "metadata": {
    "colab": {
      "provenance": [],
      "authorship_tag": "ABX9TyNP719965ZejjOlCXlHBV2v",
      "include_colab_link": true
    },
    "kernelspec": {
      "name": "python3",
      "display_name": "Python 3"
    },
    "language_info": {
      "name": "python"
    }
  },
  "cells": [
    {
      "cell_type": "markdown",
      "metadata": {
        "id": "view-in-github",
        "colab_type": "text"
      },
      "source": [
        "<a href=\"https://colab.research.google.com/github/evan15900/Lee113/blob/main/EX02_06.ipynb\" target=\"_parent\"><img src=\"https://colab.research.google.com/assets/colab-badge.svg\" alt=\"Open In Colab\"/></a>"
      ]
    },
    {
      "cell_type": "code",
      "execution_count": 2,
      "metadata": {
        "colab": {
          "base_uri": "https://localhost:8080/"
        },
        "id": "DbOMQJmXY2ID",
        "outputId": "67049b1e-19ba-4c98-c827-52169698851d"
      },
      "outputs": [
        {
          "output_type": "execute_result",
          "data": {
            "text/plain": [
              "<title>開眼電影網首頁--近期上映--</title>"
            ]
          },
          "metadata": {},
          "execution_count": 2
        }
      ],
      "source": [
        "import requests\n",
        "from bs4 import BeautifulSoup\n",
        "\n",
        "url = 'http://www.atmovies.com.tw/movie/next/'\n",
        "r = requests.get(url)\n",
        "r.encoding = 'utf-8'\n",
        "soup = BeautifulSoup(r.text, 'lxml')\n",
        "soup.title"
      ]
    },
    {
      "cell_type": "code",
      "source": [
        "import os\n",
        "if not os.path.exists('/content/movies'):\n",
        "    os.mkdir('/content/movies')\n",
        "\n",
        "import csv\n",
        "\n",
        "movies = [['電影','上映日期']]\n",
        "\n",
        "for mv in soup.find('ul',class_='filmListAllX').find_all('li'):\n",
        "  t = mv.img['alt']\n",
        "  src = mv.img['src'].strip()\n",
        "  date = mv.find('div',class_='runtime').text\n",
        "  date = date[5:15]\n",
        "  movies.append([t,date])\n",
        "  print(t,date,src)\n",
        "  r = requests.get(src)\n",
        "  with open(f'/content/movies/{t}.jpg', 'wb') as f:\n",
        "    f.write(r.content)\n",
        "with open('/content/movies.csv', 'w', encoding='utf-8', newline='') as f:\n",
        "  w = csv.writer(f)\n",
        "  w.writerows(movies)"
      ],
      "metadata": {
        "colab": {
          "base_uri": "https://localhost:8080/"
        },
        "id": "uDM7gwRVZE1S",
        "outputId": "2756633a-3c37-472c-d334-c69ba00bbd78"
      },
      "execution_count": 3,
      "outputs": [
        {
          "output_type": "stream",
          "name": "stdout",
          "text": [
            "我依然在此 2025/04/02 http://www.atmovies.com.tw/photo101/fipt14961016/pl_fipt14961016_0002.jpg\n",
            "MINECRAFT麥塊電影 2025/04/02 http://www.atmovies.com.tw/photo101/faen83566834/pl_faen83566834_0005.jpg\n",
            "會計師 2 2025/04/24 http://www.atmovies.com.tw/photo101/faen47068946/pl_faen47068946_0001.jpg\n",
            "直到黎明 2025/04/25 http://www.atmovies.com.tw/photo101/fuen30955489/pl_fuen30955489_0001.jpg\n",
            "黑袋行動 2025/04/30 http://www.atmovies.com.tw/photo101/fben30988739/pl_fben30988739_0001.jpg\n",
            "雷霆特攻隊* 2025/04/30 http://www.atmovies.com.tw/photo101/ften20969586/pl_ften20969586_0005.jpg\n",
            "不可能的任務：最終清算 2025/05/23 http://www.atmovies.com.tw/photo101/fmen62168299/pl_fmen62168299_0003.jpg\n",
            "馴龍高手 2025/06/11 http://www.atmovies.com.tw/photo101/fhen26743210/pl_fhen26743210_0001.jpg\n",
            "天作之合 2025/06/13 http://www.atmovies.com.tw/photo101/fmen30253473/pl_fmen30253473_0001.jpg\n",
            "28年毀滅倒數 2025/06/18 http://www.atmovies.com.tw/photo101/fyen10548174/pl_fyen10548174_0001.jpg\n",
            "名偵探柯南：獨眼的殘像 2025/06/25 http://www.atmovies.com.tw/photo101/fdjp35891502/pl_fdjp35891502_0001.jpg\n",
            "F1® 2025/06/26 http://www.atmovies.com.tw/photo101/ffen16311594/pl_ffen16311594_0001.jpg\n",
            "窒友梅根 2.0 2025/06/27 http://www.atmovies.com.tw/photo101/fmen26342662/pl_fmen26342662_0001.jpg\n",
            "侏羅紀世界：重生 2025/07/04 http://www.atmovies.com.tw/photo101/fjen31036941/pl_fjen31036941_0001.jpg\n",
            "超人 2025/07/11 http://www.atmovies.com.tw/photo101/fsen45950044/pl_fsen45950044_0001.jpg\n",
            "驚奇4超人：第一步 2025/07/23 http://www.atmovies.com.tw/photo101/ffen10676052/pl_ffen10676052_0007.jpg\n",
            "壞蛋聯盟2 2025/08/01 http://www.atmovies.com.tw/photo101/fben30017619/pl_fben30017619_0001.jpg\n",
            "劇場版「鬼滅之刃」無限城篇 2025/08/08 http://www.atmovies.com.tw/photo101/fdjp32820897/pl_fdjp32820897_0001.jpg\n",
            "動物方城市2 2025/11/26 http://www.atmovies.com.tw/photo101/fzen31187839/pl_fzen31187839_0001.jpg\n",
            "阿凡達：火與灰燼 2025/12/18 http://www.atmovies.com.tw/photo101/faen71757678/pl_faen71757678_0001.jpg\n",
            "玩具總動員5 2026/06/19 http://www.atmovies.com.tw/photo101/ften29355505/pl_ften29355505_0001.jpg\n"
          ]
        }
      ]
    }
  ]
}
{
  "nbformat": 4,
  "nbformat_minor": 0,
  "metadata": {
    "colab": {
      "provenance": [],
      "authorship_tag": "ABX9TyN5hGMIT5fufe44JV/KaKfn",
      "include_colab_link": true
    },
    "kernelspec": {
      "name": "python3",
      "display_name": "Python 3"
    },
    "language_info": {
      "name": "python"
    }
  },
  "cells": [
    {
      "cell_type": "markdown",
      "metadata": {
        "id": "view-in-github",
        "colab_type": "text"
      },
      "source": [
        "<a href=\"https://colab.research.google.com/github/evan15900/Lee113/blob/main/EX01_06.ipynb\" target=\"_parent\"><img src=\"https://colab.research.google.com/assets/colab-badge.svg\" alt=\"Open In Colab\"/></a>"
      ]
    },
    {
      "cell_type": "code",
      "execution_count": 17,
      "metadata": {
        "colab": {
          "base_uri": "https://localhost:8080/"
        },
        "id": "LED46DbwS2_s",
        "outputId": "de5842ad-1d7e-403e-9473-369fb8b84af3"
      },
      "outputs": [
        {
          "output_type": "stream",
          "name": "stdout",
          "text": [
            "商品欄: apple/25,banana/12,cherry/30\n",
            "購物車: apple，apple，cherry\n",
            "功能列: 1.新增商品 2.移除商品 3.結帳 4.離開\n",
            "請輸入功能列對應的數字3\n",
            "結帳金額: 80\n"
          ]
        }
      ],
      "source": [
        "from IPython.display import clear_output\n",
        "shopping_cart = []\n",
        "products = { \"apple\": 25, \"banana\": 12, \"cherry\": 30 }\n",
        "while True:\n",
        "    clear_output()\n",
        "    print('商品欄:',','.join([f'{pd}/{pr}' for pd,pr in products.items()]))\n",
        "    print('購物車:','，'.join(shopping_cart))\n",
        "    print('功能列:','1.新增商品 2.移除商品 3.結帳 4.離開')\n",
        "    act = input('請輸入功能列對應的數字')\n",
        "    if act[0] == '1':\n",
        "      shopping_cart.append(act[1:].strip())\n",
        "    elif act[0] == '2':\n",
        "      shopping_cart.remove(act[1:].strip())\n",
        "    elif act[0] == '3':\n",
        "      total = 0\n",
        "      for pd in shopping_cart:\n",
        "          total += products[pd]\n",
        "      print('結帳金額:',total)\n",
        "      break\n",
        "    else:\n",
        "      print('離開')\n",
        "      break"
      ]
    }
  ]
}
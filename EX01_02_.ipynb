{
  "nbformat": 4,
  "nbformat_minor": 0,
  "metadata": {
    "colab": {
      "provenance": [],
      "authorship_tag": "ABX9TyPEnzVDiSC3CPwiBV8KRcRX",
      "include_colab_link": true
    },
    "kernelspec": {
      "name": "python3",
      "display_name": "Python 3"
    },
    "language_info": {
      "name": "python"
    }
  },
  "cells": [
    {
      "cell_type": "markdown",
      "metadata": {
        "id": "view-in-github",
        "colab_type": "text"
      },
      "source": [
        "<a href=\"https://colab.research.google.com/github/evan15900/Lee113/blob/main/EX01_02_.ipynb\" target=\"_parent\"><img src=\"https://colab.research.google.com/assets/colab-badge.svg\" alt=\"Open In Colab\"/></a>"
      ]
    },
    {
      "cell_type": "code",
      "execution_count": 5,
      "metadata": {
        "colab": {
          "base_uri": "https://localhost:8080/"
        },
        "id": "Sn-ecg0ZMQUN",
        "outputId": "b4831011-78b1-40c9-b3b5-5afd56f47128"
      },
      "outputs": [
        {
          "output_type": "stream",
          "name": "stdout",
          "text": [
            "身高(cm):170\n",
            "體重(kg):60\n",
            "BMI: 20.8\n"
          ]
        }
      ],
      "source": [
        "h = float(input('身高(cm):'))\n",
        "w = float(input('體重(kg):'))\n",
        "bmi = w / (h/100)**2\n",
        "print('BMI:',round(bmi,1))"
      ]
    }
  ]
}
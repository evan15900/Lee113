{
  "nbformat": 4,
  "nbformat_minor": 0,
  "metadata": {
    "colab": {
      "provenance": [],
      "authorship_tag": "ABX9TyMkevjpX8YuA4fd8skQvedC",
      "include_colab_link": true
    },
    "kernelspec": {
      "name": "python3",
      "display_name": "Python 3"
    },
    "language_info": {
      "name": "python"
    }
  },
  "cells": [
    {
      "cell_type": "markdown",
      "metadata": {
        "id": "view-in-github",
        "colab_type": "text"
      },
      "source": [
        "<a href=\"https://colab.research.google.com/github/evan15900/Lee113/blob/main/EX02_01.ipynb\" target=\"_parent\"><img src=\"https://colab.research.google.com/assets/colab-badge.svg\" alt=\"Open In Colab\"/></a>"
      ]
    },
    {
      "cell_type": "code",
      "execution_count": 2,
      "metadata": {
        "id": "QUN8h0fvU6B9"
      },
      "outputs": [],
      "source": [
        "from google.colab import userdata\n",
        "import google.generativeai as genai\n",
        "genai.configure(api_key=userdata.get('GOOGLE_API_KEY'))"
      ]
    },
    {
      "cell_type": "code",
      "source": [
        "generate_content_config = {\n",
        "    'temperature': 1,\n",
        "    'top_p': 0.95,\n",
        "    'top_k': 40,\n",
        "    'max_output_tokens': 1280,\n",
        "}\n",
        "model = genai.GenerativeModel(\n",
        "    model_name='gemini-2.0-flash',\n",
        "    generation_config=generate_content_config\n",
        ")"
      ],
      "metadata": {
        "id": "JEL_GXHIVNOD"
      },
      "execution_count": 3,
      "outputs": []
    },
    {
      "cell_type": "code",
      "source": [
        "from IPython.display import Markdown, display\n",
        "\n",
        "chat = model.start_chat(history=[])\n",
        "\n",
        "while True:\n",
        "  m = input('You:')\n",
        "  if m == 'quit':\n",
        "    break\n",
        "  response = chat.send_message(m)\n",
        "  print('Bot:')\n",
        "  display(Markdown(response.text))\n"
      ],
      "metadata": {
        "id": "QdeZLEsSWhzB",
        "colab": {
          "base_uri": "https://localhost:8080/",
          "height": 523
        },
        "outputId": "e6c8cac0-bd09-4818-c325-d8d3e3de1115"
      },
      "execution_count": 4,
      "outputs": [
        {
          "output_type": "stream",
          "name": "stdout",
          "text": [
            "You:hi\n",
            "Bot:\n"
          ]
        },
        {
          "output_type": "display_data",
          "data": {
            "text/plain": [
              "<IPython.core.display.Markdown object>"
            ],
            "text/markdown": "Hi there! How can I help you today?\n"
          },
          "metadata": {}
        },
        {
          "output_type": "stream",
          "name": "stdout",
          "text": [
            "You:what's your name\n",
            "Bot:\n"
          ]
        },
        {
          "output_type": "display_data",
          "data": {
            "text/plain": [
              "<IPython.core.display.Markdown object>"
            ],
            "text/markdown": "I am a large language model, trained by Google. I don't have a name.\n"
          },
          "metadata": {}
        },
        {
          "output_type": "stream",
          "name": "stdout",
          "text": [
            "You:Do you think 'Gemini' is a good name\n",
            "Bot:\n"
          ]
        },
        {
          "output_type": "display_data",
          "data": {
            "text/plain": [
              "<IPython.core.display.Markdown object>"
            ],
            "text/markdown": "Whether \"Gemini\" is a good name depends on what it's being used for! Here's a breakdown of why it might be considered good or not-so-good:\n\n**Why \"Gemini\" is a potentially good name:**\n\n*   **Memorability:** It's a relatively short and easily pronounceable word, making it memorable.\n*   **Positive Associations:** The Gemini constellation is associated with duality, intelligence, communication, and versatility. These are generally positive traits.\n*   **Modern/Techy Sound:** It has a slightly futuristic and technological sound, making it suitable for a tech product or AI.\n*   **Unique/Distinctive:** While not entirely unique, it's not an overly common name in the tech world, helping it stand out.\n\n**Why \"Gemini\" might not be a good name:**\n\n*   **Duality Can Be Confusing:** The association with duality could be misinterpreted as indecisiveness or a lack of focus. Some might see it as implying a split personality, which is not always a positive connotation.\n*   **Astrological Connotations:** Some people might dismiss it as too \"woo-woo\" or associate it strongly with astrology, which could be a turn-off for some demographics.\n*   **Prior Associations:** It might be confused with other existing products or companies named \"Gemini.\"\n\n**In conclusion:**\n\n\"Gemini\" is a decent name that has both advantages and disadvantages. Whether it's a *good* name ultimately depends on the specific context and the image the entity wants to project. For a large language model aiming to be seen as versatile, intelligent, and communicative, it's arguably a suitable choice, albeit with the caveats mentioned above. Google clearly found the positive associations more compelling than the potential drawbacks.\n"
          },
          "metadata": {}
        },
        {
          "name": "stdout",
          "output_type": "stream",
          "text": [
            "You:quit\n"
          ]
        }
      ]
    }
  ]
}
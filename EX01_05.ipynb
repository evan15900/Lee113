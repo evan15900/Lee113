{
  "nbformat": 4,
  "nbformat_minor": 0,
  "metadata": {
    "colab": {
      "provenance": [],
      "authorship_tag": "ABX9TyP4u6hnUSrR/TQENtM193Jh",
      "include_colab_link": true
    },
    "kernelspec": {
      "name": "python3",
      "display_name": "Python 3"
    },
    "language_info": {
      "name": "python"
    }
  },
  "cells": [
    {
      "cell_type": "markdown",
      "metadata": {
        "id": "view-in-github",
        "colab_type": "text"
      },
      "source": [
        "<a href=\"https://colab.research.google.com/github/evan15900/Lee113/blob/main/EX01_05.ipynb\" target=\"_parent\"><img src=\"https://colab.research.google.com/assets/colab-badge.svg\" alt=\"Open In Colab\"/></a>"
      ]
    },
    {
      "cell_type": "code",
      "execution_count": 1,
      "metadata": {
        "colab": {
          "base_uri": "https://localhost:8080/"
        },
        "id": "1R4wwyS3JPY7",
        "outputId": "f469209e-a156-4322-c311-40d2e6a1e28b"
      },
      "outputs": [
        {
          "output_type": "stream",
          "name": "stdout",
          "text": [
            "加密(e)或解密(d)以及金鑰:e2\n",
            "請輸入欲加/解密的文字:apple\n",
            "crrng\n"
          ]
        }
      ],
      "source": [
        "act = input('加密(e)或解密(d)以及金鑰:')\n",
        "txt = input('請輸入欲加/解密的文字:')\n",
        "\n",
        "#加密or解密\n",
        "act_type = act[0]\n",
        "#金鑰\n",
        "key = int(act[1:])\n",
        "#加解密後的文字\n",
        "ntxt = ''\n",
        "\n",
        "if act_type == 'd':\n",
        "  for c in txt:\n",
        "    ntxt += chr(ord(c) - key)\n",
        "elif act_type == 'e':\n",
        "  for c in txt:\n",
        "    ntxt += chr(ord(c) + key)\n",
        "\n",
        "print(ntxt)"
      ]
    }
  ]
}
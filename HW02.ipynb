{
  "nbformat": 4,
  "nbformat_minor": 0,
  "metadata": {
    "colab": {
      "provenance": [],
      "include_colab_link": true
    },
    "kernelspec": {
      "name": "python3",
      "display_name": "Python 3"
    },
    "language_info": {
      "name": "python"
    }
  },
  "cells": [
    {
      "cell_type": "markdown",
      "metadata": {
        "id": "view-in-github",
        "colab_type": "text"
      },
      "source": [
        "<a href=\"https://colab.research.google.com/github/evan15900/Lee113/blob/main/HW02.ipynb\" target=\"_parent\"><img src=\"https://colab.research.google.com/assets/colab-badge.svg\" alt=\"Open In Colab\"/></a>"
      ]
    },
    {
      "cell_type": "markdown",
      "source": [
        "# HW02 Web Crawler"
      ],
      "metadata": {
        "id": "eo72fZ0YlURV"
      }
    },
    {
      "cell_type": "markdown",
      "source": [
        "## 題目"
      ],
      "metadata": {
        "id": "gUsBAopRJMJD"
      }
    },
    {
      "cell_type": "markdown",
      "source": [
        "PChome 顯示卡商品與價格爬取"
      ],
      "metadata": {
        "id": "pDHhflLyJRgS"
      }
    },
    {
      "cell_type": "markdown",
      "source": [
        "## 摘要"
      ],
      "metadata": {
        "id": "hbqT3pl04Hl9"
      }
    },
    {
      "cell_type": "markdown",
      "source": [
        "本報告透過網路爬蟲技術，收集 PChome 網站上顯示卡販賣頁面的第一頁推薦資料，為打算比較價格的消費者提供參考。"
      ],
      "metadata": {
        "id": "eweMw-wh4TC0"
      }
    },
    {
      "cell_type": "markdown",
      "source": [
        "## 引言"
      ],
      "metadata": {
        "id": "9nb1aHAM4XiE"
      }
    },
    {
      "cell_type": "markdown",
      "source": [
        "PChome作為台灣其中一個相當重要的網路購物平台，其中包含了各式各樣的3C產品。而在網路遊戲蓬勃發展的現代，顯示卡、記憶卡、硬碟、螢幕等零件都成為是否能順暢遊玩的重要指標。\n",
        "\n",
        "愈來愈多遊戲追求著逼真細緻的畫面表現，這使得負責圖形處理的顯示卡愈發重要。因此本次爬蟲的目標是獲取 PChome 上顯示卡推薦頁面的第一頁，分析不同店家、不同型號顯示卡的價格，為消費者根據自身需求及預算進行多方比較。"
      ],
      "metadata": {
        "id": "0ZmT034r5F9R"
      }
    },
    {
      "cell_type": "markdown",
      "source": [
        "## 方法"
      ],
      "metadata": {
        "id": "8YMFd39F4n4l"
      }
    },
    {
      "cell_type": "markdown",
      "source": [
        "- 目標網站描述\n",
        "  - 目標網站：PChome 顯示卡。  \n",
        "  https://24h.pchome.com.tw/search/?q=%E9%A1%AF%E7%A4%BA%E5%8D%A1&sortParm=rnk&sortOrder=dc\n",
        "  - 頁面結構：包含商品名稱、圖片、價格等資訊。\n",
        "\n",
        "- 工具與技術\n",
        "  - 使用 Python 的 `requests` 庫發送 HTTP 請求。\n",
        "  - 使用 `BeautifulSoup` 解析 HTML。\n",
        "  - 使用 Python 的 `os` 模組建立儲存影像的目錄。\n",
        "  - 使用 Python 的 `csv` 模組將爬取的資料寫入 CSV 檔。\n"
      ],
      "metadata": {
        "id": "zkix6XqZ429E"
      }
    },
    {
      "cell_type": "code",
      "source": [
        "import requests\n",
        "from bs4 import BeautifulSoup\n",
        "url = 'https://24h.pchome.com.tw/search/?q=%E9%A1%AF%E7%A4%BA%E5%8D%A1'\n",
        "res = requests.get(url)\n",
        "res.encoding = 'utf-8'\n",
        "soup = BeautifulSoup(res.text, 'lxml')\n",
        "soup.title"
      ],
      "metadata": {
        "colab": {
          "base_uri": "https://localhost:8080/"
        },
        "id": "9mrhjx2wj3WU",
        "outputId": "755e7fce-2037-4558-d59e-4c07b5aad5fd"
      },
      "execution_count": null,
      "outputs": [
        {
          "output_type": "execute_result",
          "data": {
            "text/plain": [
              "<title>顯示卡 - PChome 24h購物</title>"
            ]
          },
          "metadata": {},
          "execution_count": 1
        }
      ]
    },
    {
      "cell_type": "code",
      "source": [
        "import os\n",
        "if not os.path.exists('/content/PChome'):\n",
        "    os.mkdir('/content/PChome')\n",
        "\n",
        "import csv\n",
        "\n",
        "G_Card = [['商品','價錢']]\n",
        "\n",
        "for gc in soup.find('div',class_='c-listInfoGrid__body').find_all('li',class_='c-listInfoGrid__item c-listInfoGrid__item--gridCardGray5 is-bottomLine'):\n",
        "  t = gc.img['alt']\n",
        "  src = gc.img['src'].strip()\n",
        "  price = gc.find('div',class_='c-prodInfoV2__priceValue c-prodInfoV2__priceValue--m').text\n",
        "  G_Card.append([t,price])\n",
        "  r = requests.get(src)\n",
        "  with open(f'/content/PChome/{t}.jpg', 'wb') as f:\n",
        "    f.write(r.content)\n",
        "with open('/content/PChome.csv', 'w', encoding='utf-8', newline='') as f:\n",
        "  w = csv.writer(f)\n",
        "  w.writerows(G_Card)"
      ],
      "metadata": {
        "id": "bkFbE8CGf7dM"
      },
      "execution_count": null,
      "outputs": []
    },
    {
      "cell_type": "markdown",
      "source": [
        "## 結果\n"
      ],
      "metadata": {
        "id": "mHEo_iad7QMa"
      }
    },
    {
      "cell_type": "markdown",
      "source": [
        "- 數據存儲方式\n",
        "  - 將數據存儲為 CSV 格式，方便後續分析。"
      ],
      "metadata": {
        "id": "Fx3h33cU8n8t"
      }
    },
    {
      "cell_type": "code",
      "source": [
        "import csv\n",
        "with open('PChome.csv', 'r') as file:\n",
        "  reader = csv.reader(file)\n",
        "  data = list(reader)\n",
        "data"
      ],
      "metadata": {
        "id": "jsLbLuSa8mnY",
        "colab": {
          "base_uri": "https://localhost:8080/"
        },
        "outputId": "17397e9f-2e71-40a0-a4be-16890ff5c006"
      },
      "execution_count": null,
      "outputs": [
        {
          "output_type": "execute_result",
          "data": {
            "text/plain": [
              "[['商品', '價錢'],\n",
              " ['技嘉 AORUS GeForce RTX 5070 WINDFORCE OC SFF 12G 顯示卡', '$21,090'],\n",
              " ['MSI GeForce RTX 5060 Ti 16G VENTUS 3X OC 顯示卡', '$17,590'],\n",
              " ['MSI VENTUS GeForce RTX 5060 8GB 2X OC 顯示卡', '$10,990'],\n",
              " ['ASUS Dual GeForce RTX 5060 8GB GDDR7 OC 顯示卡', '$10,990'],\n",
              " ['ASUS PRIME GeForce RTX 5070 12GB GDDR7 顯示卡', '$22,990'],\n",
              " ['技嘉 GeForce RTX 4070 SUPER WINDFORCE OC 12G 顯示卡', '$21,990'],\n",
              " ['MSI GAMING TRIO GeForce RTX 5060 8GB OC 顯示卡', '$12,990'],\n",
              " ['微星MSI RTX 3060 12G VENTUS 2X OC PCI-E顯示卡', '$8,990'],\n",
              " ['MSI GeForce RTX 5070 12G SHADOW 2X OC 顯示卡', '$19,990'],\n",
              " ['微星MSI GeForce RTX 5070 Ti 16G GAMING TRIO OC 顯示卡 組合', '$41,999'],\n",
              " ['ASUS PRIME GeForce RTX 4060 Ti 8GB OC 顯示卡', '$13,999'],\n",
              " ['ZOTAC GAMING GeForce RTX 5060 Ti 16GB Twin Edge OC 顯示卡', '$16,490'],\n",
              " ['MSI GeForce RTX 5070 12G VENTUS 2X OC 顯示卡', '$21,990'],\n",
              " ['MSI GeForce RTX 5060 Ti 8G GAMING TRIO OC 顯示卡', '$15,990'],\n",
              " ['技嘉 GIGABYTE GeForce RTX5070 WINDFORCE OC SFF 12G 顯示卡', '$21,090'],\n",
              " ['技嘉 GeForce RTX 5090 GAMING OC 32G 顯示卡 大組包', '$129,000'],\n",
              " ['微星MSI GeForce RTX 5070 Ti 16G GAMING TRIO OC 顯示卡 組合', '$46,999'],\n",
              " ['撼與SPARKLE Arc A380 ELF 6G GDDR6 Intel顯示卡', '$3,790'],\n",
              " ['ASUS Dual GeForce RTX 4060 Ti EVO OC 8GB 顯示卡', '$13,690'],\n",
              " ['華碩 ROG STRIX RTX5070 O12G GAMING 顯示卡 組合', '$35,250'],\n",
              " ['技嘉GIGABYTE GeForce RTX3050 OC Low Profile 6G顯示卡', '$5,990'],\n",
              " ['技嘉 AORUS GeForce RTX 5080 AERO OC SFF 16G 顯示卡 (組合包)', '$57,180'],\n",
              " ['技嘉 GeForce RTX 4060 WINDFORCE OC 8G 顯示卡', '$10,090'],\n",
              " ['微星 RTX 5070 Ti 16G GAMING TRIO OC PLUS 顯示卡 (組合包)', '$49,990'],\n",
              " ['MSI GeForce RTX 5070 12G GAMING TRIO OC 顯示卡', '$24,990'],\n",
              " ['技嘉 RTX3060 WINDFORCE OC 12G(rev2.0) 顯示卡', '$9,090'],\n",
              " ['微星 GeForce RTX 3060 VENTUS 2X 12G OC 顯示卡', '$8,990'],\n",
              " ['ASUS PRIME GeForce RTX 5060 8GB GDDR7 OC 顯示卡', '$11,990'],\n",
              " ['ASUS Dual GeForce RTX 3050 OC 6GB 顯示卡', '$6,290'],\n",
              " ['華碩 ASUS TUF Gaming GeForce RTX 5060 Ti 16GB GDDR7 OC 超頻版 顯示卡', '$18,990'],\n",
              " ['ASUS 華碩 PRIME GeForce RTX 5070 Ti 16GB GDDR7 OC 超頻版 顯示卡+板 組合', '$38,999'],\n",
              " ['GIGABYTE 技嘉 GeForce RTX 5080 GAMING OC 16G 顯示卡', '$51,790'],\n",
              " ['技嘉 GeForce RTX 5060 WINDFORCE 8G 顯示卡', '$10,990'],\n",
              " ['ASUS PRIME GeForce RTX 5070 12GB GDDR7 OC 超頻版 顯示卡', '$23,990'],\n",
              " ['ZOTAC GAMING GeForce RTX 5060 Ti 16GB Twin Edge 顯示卡', '$15,590'],\n",
              " ['【GIGABYTE 技嘉】RTX4060 WINDFORCE OC 8G 顯示卡', '$9,999'],\n",
              " ['微星 GeForce RTX 3050 GAMING X 6G 顯示卡', '$6,190'],\n",
              " ['ASUS 華碩 TUF Gaming GeForce RTX 5070 Ti 16GB GDDR7 OC 超頻版 顯示卡 組合',\n",
              "  '$49,999'],\n",
              " ['撼與SPARKLE Arc A750 TITAN 8G GDDR6 Intel顯示卡', '$6,790'],\n",
              " ['華碩 TUF-RTX5080-O16G-GAMING  顯示卡 (組合包-3)', '$63,990']]"
            ]
          },
          "metadata": {},
          "execution_count": 3
        }
      ]
    },
    {
      "cell_type": "markdown",
      "source": [
        "## 問題與挑戰"
      ],
      "metadata": {
        "id": "6yHFop_b73gY"
      }
    },
    {
      "cell_type": "markdown",
      "source": [
        "- 技術挑戰  \n",
        "    在同一頁商品列表分成上下部分，中間被「大部分的人也搜」的區塊分隔，因此若是照著 EX02-06 練習中尋找「ul」的標籤只讀取得到上半部的商品。\n",
        "    \n",
        "    解決方法是尋找上一層的標籤，也就是「div」。接著再直接尋找「div」內 class 為「c-listInfoGrid__item c-listInfoGrid__item--gridCardGray5 is-bottomLine」的商品列表標籤「li」，如此就能讀取到整頁的商品並避開中間不需要的區塊了。\n",
        "    ![擷取.JPG](data:image/jpeg;base64,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)\n",
        "\n",
        "- 資料限制  \n",
        "    有些可能是組合包或者有優惠，無法從商品名稱直接看出來，這可能會對消費者的選擇造成影響。"
      ],
      "metadata": {
        "id": "D6roihku8PBu"
      }
    },
    {
      "cell_type": "markdown",
      "source": [
        "## 結論"
      ],
      "metadata": {
        "id": "VeQHgVuqqD3J"
      }
    },
    {
      "cell_type": "markdown",
      "source": [
        "\n",
        "- 成功獲取並分析了一頁 PChome 推薦的顯示卡商品，提供了多種顯示卡的價格。此外也將商品圖片下載，若有需要便可以打開查看。\n",
        "- 未來期望能爬取更多資料，將範圍擴大到數頁甚至多個購物平台，讓消費者能多方比較並更了解市場行情。"
      ],
      "metadata": {
        "id": "Baea2g7J9DAL"
      }
    },
    {
      "cell_type": "markdown",
      "source": [
        "## 參考文獻"
      ],
      "metadata": {
        "id": "j5hI_9QW9dTt"
      }
    },
    {
      "cell_type": "markdown",
      "source": [
        "* EX02-06 開眼電影"
      ],
      "metadata": {
        "id": "eLFvp2Fk9fSa"
      }
    }
  ]
}
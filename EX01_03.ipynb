{
  "nbformat": 4,
  "nbformat_minor": 0,
  "metadata": {
    "colab": {
      "provenance": [],
      "authorship_tag": "ABX9TyNwUo6lF0d0zL7XTuyb/hMH",
      "include_colab_link": true
    },
    "kernelspec": {
      "name": "python3",
      "display_name": "Python 3"
    },
    "language_info": {
      "name": "python"
    }
  },
  "cells": [
    {
      "cell_type": "markdown",
      "metadata": {
        "id": "view-in-github",
        "colab_type": "text"
      },
      "source": [
        "<a href=\"https://colab.research.google.com/github/evan15900/Lee113/blob/main/EX01_03.ipynb\" target=\"_parent\"><img src=\"https://colab.research.google.com/assets/colab-badge.svg\" alt=\"Open In Colab\"/></a>"
      ]
    },
    {
      "cell_type": "code",
      "execution_count": 3,
      "metadata": {
        "id": "B3yv11YhR7pU",
        "colab": {
          "base_uri": "https://localhost:8080/"
        },
        "outputId": "ce008e09-1381-4e9e-ae4c-c367b95328a1"
      },
      "outputs": [
        {
          "output_type": "stream",
          "name": "stdout",
          "text": [
            "player:2\n",
            "computer 5\n",
            "player win\n"
          ]
        }
      ],
      "source": [
        "import random\n",
        "\n",
        "# 0:石頭，2:剪刀，5:布\n",
        "player = int(input('player:'))\n",
        "computer = random.choice([0,2,5])\n",
        "print('computer',computer)\n",
        "if player == computer:\n",
        "    print('draw')\n",
        "elif (player == 0 and computer == 2) or (player == 2 and computer == 5) or (player == 5 and computer == 0):\n",
        "    print('player win')\n",
        "else:\n",
        "    print('computer win')"
      ]
    }
  ]
}